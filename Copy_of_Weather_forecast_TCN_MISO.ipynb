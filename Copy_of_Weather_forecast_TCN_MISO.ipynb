{
  "nbformat": 4,
  "nbformat_minor": 0,
  "metadata": {
    "colab": {
      "name": "Copy of Weather_forecast_TCN_MISO.ipynb",
      "private_outputs": true,
      "provenance": [],
      "collapsed_sections": [],
      "toc_visible": true,
      "include_colab_link": true
    },
    "kernelspec": {
      "name": "python3",
      "display_name": "Python 3"
    },
    "accelerator": "GPU"
  },
  "cells": [
    {
      "cell_type": "markdown",
      "metadata": {
        "id": "view-in-github",
        "colab_type": "text"
      },
      "source": [
        "<a href=\"https://colab.research.google.com/github/dhphu19/weatherforecat/blob/main/Copy_of_Weather_forecast_TCN_MISO.ipynb\" target=\"_parent\"><img src=\"https://colab.research.google.com/assets/colab-badge.svg\" alt=\"Open In Colab\"/></a>"
      ]
    },
    {
      "cell_type": "code",
      "metadata": {
        "id": "THivOQ2hR1yj"
      },
      "source": [
        "!pip install wget\n",
        "!pip install keras-tcn\n",
        "import wget\n",
        "import matplotlib.pyplot as plt\n",
        "import numpy as np\n",
        "import pandas as pd\n",
        "from tensorflow.keras import Input, Model\n",
        "from tensorflow.keras.layers import Dense\n",
        "from tqdm.notebook import tqdm\n",
        "from tensorflow import keras\n",
        "from tcn import TCN,  tcn_full_summary\n",
        "from sklearn import preprocessing\n",
        "import math\n",
        "from sklearn.metrics import mean_squared_error"
      ],
      "execution_count": null,
      "outputs": []
    },
    {
      "cell_type": "code",
      "metadata": {
        "id": "V3J1Wc_ASOcO"
      },
      "source": [
        "from google.colab import drive\n",
        "drive.mount('/content/gdrive')"
      ],
      "execution_count": null,
      "outputs": []
    },
    {
      "cell_type": "code",
      "metadata": {
        "id": "5pZOSoNySPN1"
      },
      "source": [
        "file_path = '/content/gdrive/MyDrive/weather_data/WeatherData_Aug_2020.csv'\n",
        "data=pd.read_csv(file_path, delimiter=',',skipinitialspace=True)\n",
        "data.head(24)\n",
        "#chuan hoa\n",
        "data2 = data[['Temperature','Wind Speed','Relative Humidity','Visibility','Precipitation']] #'Conditions'\n",
        "dieuChinh = preprocessing.MinMaxScaler(feature_range= (0,1))\n",
        "tenCot = ['temperature', 'windSpeed', 'humidity', 'visibility', 'precipitation']\n",
        "data3 = dieuChinh.fit_transform(data2)\n",
        "Max = dieuChinh.data_max_\n",
        "Min = dieuChinh.data_min_\n",
        "print(Max)\n",
        "print(Min)\n",
        "# data2.to_csv(\"data3.csv\")\n",
        "np.savetxt(\"data3.csv\", data3, delimiter = \",\")\n",
        "data4 = pd.read_csv('/content/data3.csv', names=tenCot)\n",
        "data4"
      ],
      "execution_count": null,
      "outputs": []
    },
    {
      "cell_type": "code",
      "metadata": {
        "id": "W8JRTnuISPVH"
      },
      "source": [
        "# data training\n",
        "temperature = np.array(data4['temperature'])\n",
        "windSpeed = np.array(data4['windSpeed'])\n",
        "humidity = np.array(data4['humidity'])\n",
        "visibility = np.array(data4['visibility'])\n",
        "precipitation = np.array(data4['precipitation'])\n",
        "\n",
        "dataInput = np.array([temperature, humidity, windSpeed, visibility, precipitation]) # gop 5 ma tran lam mot\n",
        "dataInput = np.transpose(dataInput) # chuyen vi ma tran\n",
        "num_periods = 24\n",
        "f_horizon = 1\n",
        "x_data = dataInput[:(len(dataInput)-(num_periods*2))] \n",
        "x_batches = x_data.reshape(-1, num_periods, 5)\n",
        "\n",
        "y_data = temperature[1:(len(temperature)-(num_periods*2))+f_horizon] #########\n",
        "y_batches = y_data.reshape(-1, num_periods, 1)\n",
        "print(x_data.shape)\n",
        "print(x_batches.shape)\n",
        "print(y_data.shape)\n",
        "print(y_batches.shape)"
      ],
      "execution_count": null,
      "outputs": []
    },
    {
      "cell_type": "code",
      "metadata": {
        "id": "WTZvrTniSWht"
      },
      "source": [
        "# data test\n",
        "def test_data(series_1, series_2, forecast, num):\n",
        "    testX = series_1[-(num + forecast):][:num].reshape(-1, num_periods, 5)\n",
        "    testY = series_2[-(num):].reshape(-1, num_periods, 1)\n",
        "    return testX, testY\n",
        "X_test, Y_test = test_data(dataInput, temperature, f_horizon, num_periods*2)\n",
        "print(X_test.shape)\n",
        "print(Y_test.shape)"
      ],
      "execution_count": null,
      "outputs": []
    },
    {
      "cell_type": "code",
      "metadata": {
        "id": "HGpkxYn0Sd19"
      },
      "source": [
        "i = Input(batch_shape=(None, num_periods, 5))\n",
        "m = TCN(return_sequences=True)(i)\n",
        "m = Dense(1, activation='linear')(m)\n",
        "model = Model(inputs=[i], outputs=[m])\n",
        "model.summary()"
      ],
      "execution_count": null,
      "outputs": []
    },
    {
      "cell_type": "code",
      "metadata": {
        "id": "BA0AckaPpB55"
      },
      "source": [
        "model.compile(optimizer='adam', loss='mae')"
      ],
      "execution_count": null,
      "outputs": []
    },
    {
      "cell_type": "code",
      "metadata": {
        "id": "WNqAigO8Sy29"
      },
      "source": [
        "#print('Train...')\n",
        "#hist = model.fit(x_batches, y_batches, epochs=1000)\n",
        "history = model.fit(x_batches, y_batches, epochs=1000, validation_data=(X_test, Y_test))\n",
        "# plot history\n",
        "plt.plot(history.history['loss'], label='train')\n",
        "plt.plot(history.history['val_loss'], label='test')\n",
        "plt.legend()\n",
        "plt.show()"
      ],
      "execution_count": null,
      "outputs": []
    },
    {
      "cell_type": "code",
      "metadata": {
        "id": "7KbAeTb8S43R"
      },
      "source": [
        "predict = model.predict(X_test)\n",
        "print(predict.shape)"
      ],
      "execution_count": null,
      "outputs": []
    },
    {
      "cell_type": "code",
      "metadata": {
        "id": "sb17pkbRN3Kr"
      },
      "source": [
        "# Inv\n",
        "# 'temperature': 0, 'windSpeed': 1, 'humidity': 2, 'visibility': 3, 'precipitation': 4\n",
        "Y_test = Y_test*(Max[0]-Min[0])+Min[0]\n",
        "Y_test = np.ravel(Y_test)\n",
        "predict = predict*(Max[0]-Min[0])+Min[0]\n",
        "predict = np.ravel(predict)\n",
        "np.savetxt(\"test.txt\", predict, delimiter = \",\")"
      ],
      "execution_count": null,
      "outputs": []
    },
    {
      "cell_type": "code",
      "metadata": {
        "id": "Rl4ZBU5KS67G"
      },
      "source": [
        "plt.title(\"forecast vs actual\", fontsize=14)\n",
        "plt.plot(pd.Series(Y_test), \"b-\", markersize=10, label=\"Actual\")\n",
        "plt.plot(pd.Series(predict), \"r-\", markersize=10, label=\"Forecast\")\n",
        "plt.legend(loc=\"upper left\")\n",
        "plt.xlabel(\"Time Periods\")\n",
        "plt.show()"
      ],
      "execution_count": null,
      "outputs": []
    },
    {
      "cell_type": "code",
      "metadata": {
        "id": "9RitDl04yy8s"
      },
      "source": [
        "#in sai số\n",
        "Y_test = Y_test.reshape(1, -1)\n",
        "y_pred = predict.reshape(1, -1)\n",
        "error = Y_test - y_pred\n",
        "print(max(max(abs(error))))\n",
        "print(min(max(abs(error))))\n",
        "print(abs(error))"
      ],
      "execution_count": null,
      "outputs": []
    },
    {
      "cell_type": "code",
      "metadata": {
        "id": "fSIFzEEJEUb0"
      },
      "source": [
        "# in rmse\n",
        "rmse = math.sqrt(mean_squared_error(Y_test, y_pred))\n",
        "print(rmse)"
      ],
      "execution_count": null,
      "outputs": []
    }
  ]
}